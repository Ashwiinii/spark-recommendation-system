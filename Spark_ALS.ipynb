{
 "cells": [
  {
   "attachments": {},
   "cell_type": "markdown",
   "metadata": {},
   "source": [
    "# Spark Collaborative Filtering using Alternating Least Squares (ALS)"
   ]
  },
  {
   "attachments": {},
   "cell_type": "markdown",
   "metadata": {},
   "source": [
    "A self contained notebook that uses MovieLens dataset, processes it and implements Spark collaborative filtering algorithm."
   ]
  },
  {
   "cell_type": "code",
   "execution_count": 1,
   "metadata": {},
   "outputs": [
    {
     "name": "stderr",
     "output_type": "stream",
     "text": [
      "c:\\Users\\ashwi\\anaconda3\\lib\\site-packages\\scipy\\__init__.py:146: UserWarning: A NumPy version >=1.16.5 and <1.23.0 is required for this version of SciPy (detected version 1.24.3\n",
      "  warnings.warn(f\"A NumPy version >={np_minversion} and <{np_maxversion}\"\n"
     ]
    },
    {
     "name": "stdout",
     "output_type": "stream",
     "text": [
      "System version: 3.9.12 (main, Apr  4 2022, 05:22:27) [MSC v.1916 64 bit (AMD64)]\n",
      "Pandas version: 1.4.2\n",
      "PySpark version: 3.3.2\n"
     ]
    }
   ],
   "source": [
    "import sys\n",
    "import pandas as pd\n",
    "from matplotlib import pyplot as plt\n",
    "import numpy as np\n",
    "import seaborn as sns\n",
    "import sys\n",
    "import pandas as pd\n",
    "import warnings\n",
    "warnings.simplefilter(action='ignore', category=FutureWarning)\n",
    "\n",
    "import pyspark\n",
    "from pyspark.ml.evaluation import RegressionEvaluator\n",
    "from pyspark.mllib.evaluation import RegressionMetrics, RankingMetrics\n",
    "from pyspark.sql import SparkSession\n",
    "from pyspark.ml.recommendation import ALS\n",
    "import pyspark.sql.functions as F\n",
    "from pyspark.sql.functions import col\n",
    "from pyspark.ml.tuning import CrossValidator\n",
    "from pyspark.sql.types import StructType, StructField\n",
    "from pyspark.sql.types import FloatType, IntegerType, LongType\n",
    "\n",
    "from recommenders.datasets import movielens\n",
    "from recommenders.utils.spark_utils import start_or_get_spark\n",
    "from recommenders.tuning.parameter_sweep import generate_param_grid\n",
    "from recommenders.datasets.spark_splitters import spark_random_split\n",
    "\n",
    "print(\"System version: {}\".format(sys.version))\n",
    "print(\"Pandas version: {}\".format(pd.__version__))\n",
    "print(\"PySpark version: {}\".format(pyspark.__version__))"
   ]
  },
  {
   "attachments": {},
   "cell_type": "markdown",
   "metadata": {},
   "source": [
    "Preparing schema with column names"
   ]
  },
  {
   "cell_type": "code",
   "execution_count": 62,
   "metadata": {
    "tags": [
     "parameters"
    ]
   },
   "outputs": [],
   "source": [
    "MOVIELENS_DATA_SIZE = \"100k\"\n",
    "\n",
    "COL_USER = \"UserId\"\n",
    "COL_ITEM = \"MovieId\"\n",
    "COL_RATING = \"Rating\"\n",
    "COL_PREDICTION = \"prediction\"\n",
    "COL_TIMESTAMP = \"Timestamp\""
   ]
  },
  {
   "cell_type": "code",
   "execution_count": 63,
   "metadata": {},
   "outputs": [],
   "source": [
    "schema = StructType((\n",
    "        StructField(COL_USER, IntegerType()),\n",
    "        StructField(COL_ITEM, IntegerType()),\n",
    "        StructField(COL_RATING, FloatType()),\n",
    "        StructField(COL_TIMESTAMP, LongType()),))"
   ]
  },
  {
   "cell_type": "code",
   "execution_count": 64,
   "metadata": {},
   "outputs": [
    {
     "name": "stdout",
     "output_type": "stream",
     "text": [
      "StructType([StructField('UserId', IntegerType(), True), StructField('MovieId', IntegerType(), True), StructField('Rating', FloatType(), True), StructField('Timestamp', LongType(), True)])\n"
     ]
    }
   ],
   "source": [
    "print(schema)"
   ]
  },
  {
   "attachments": {},
   "cell_type": "markdown",
   "metadata": {},
   "source": [
    "Model hyper parameters "
   ]
  },
  {
   "cell_type": "code",
   "execution_count": 65,
   "metadata": {},
   "outputs": [],
   "source": [
    "RANK = 10\n",
    "MAX_ITER = 15\n",
    "REG_PARAM = 0.05\n",
    "K = 10 # number of recommended items"
   ]
  },
  {
   "attachments": {},
   "cell_type": "markdown",
   "metadata": {},
   "source": [
    "Initialize a Spark session."
   ]
  },
  {
   "cell_type": "code",
   "execution_count": 67,
   "metadata": {},
   "outputs": [],
   "source": [
    "spark = start_or_get_spark(\"ALS Deep Dive\", memory=\"16g\")\n",
    "spark.conf.set(\"spark.sql.analyzer.failAmbiguousSelfJoin\", \"false\")"
   ]
  },
  {
   "attachments": {},
   "cell_type": "markdown",
   "metadata": {},
   "source": [
    "LOADING DATA"
   ]
  },
  {
   "cell_type": "code",
   "execution_count": 69,
   "metadata": {},
   "outputs": [
    {
     "name": "stderr",
     "output_type": "stream",
     "text": [
      "100%|██████████| 4.81k/4.81k [00:03<00:00, 1.28kKB/s]\n"
     ]
    }
   ],
   "source": [
    "dfs = movielens.load_spark_df(spark=spark, size=MOVIELENS_DATA_SIZE, schema=schema)"
   ]
  },
  {
   "cell_type": "code",
   "execution_count": 9,
   "metadata": {
    "scrolled": true
   },
   "outputs": [
    {
     "name": "stdout",
     "output_type": "stream",
     "text": [
      "+------+-------+------+---------+\n",
      "|UserId|MovieId|Rating|Timestamp|\n",
      "+------+-------+------+---------+\n",
      "|   196|    242|   3.0|881250949|\n",
      "|   186|    302|   3.0|891717742|\n",
      "|    22|    377|   1.0|878887116|\n",
      "|   244|     51|   2.0|880606923|\n",
      "|   166|    346|   1.0|886397596|\n",
      "+------+-------+------+---------+\n",
      "only showing top 5 rows\n",
      "\n"
     ]
    }
   ],
   "source": [
    "dfs.show(5)"
   ]
  },
  {
   "attachments": {},
   "cell_type": "markdown",
   "metadata": {},
   "source": [
    "Data is randomly split in the ratio of 75:25 for training and testing."
   ]
  },
  {
   "cell_type": "code",
   "execution_count": 70,
   "metadata": {},
   "outputs": [],
   "source": [
    "dfs_train, dfs_test = spark_random_split(dfs, ratio=0.75, seed=42)"
   ]
  },
  {
   "attachments": {},
   "cell_type": "markdown",
   "metadata": {},
   "source": [
    "ALS Model Training"
   ]
  },
  {
   "cell_type": "code",
   "execution_count": 71,
   "metadata": {},
   "outputs": [],
   "source": [
    "als = ALS(\n",
    "    maxIter=MAX_ITER, \n",
    "    rank=RANK,\n",
    "    regParam=REG_PARAM, \n",
    "    userCol=COL_USER, \n",
    "    itemCol=COL_ITEM, \n",
    "    ratingCol=COL_RATING, \n",
    "    coldStartStrategy=\"drop\" # Spark ALS allows for dropping cold users for robust model training\n",
    ")\n",
    "\n",
    "model = als.fit(dfs_train)"
   ]
  },
  {
   "attachments": {},
   "cell_type": "markdown",
   "metadata": {},
   "source": [
    "MODEL PREDICTION"
   ]
  },
  {
   "cell_type": "code",
   "execution_count": 72,
   "metadata": {},
   "outputs": [],
   "source": [
    "dfs_pred = model.transform(dfs_test)"
   ]
  },
  {
   "cell_type": "code",
   "execution_count": 73,
   "metadata": {},
   "outputs": [
    {
     "data": {
      "text/plain": [
       "(pyspark.sql.dataframe.DataFrame, pyspark.sql.dataframe.DataFrame)"
      ]
     },
     "execution_count": 73,
     "metadata": {},
     "output_type": "execute_result"
    }
   ],
   "source": [
    "type(dfs_pred), type(dfs_test)"
   ]
  },
  {
   "attachments": {},
   "cell_type": "markdown",
   "metadata": {},
   "source": [
    "PERFORMANCE EVALUATION"
   ]
  },
  {
   "cell_type": "code",
   "execution_count": 78,
   "metadata": {},
   "outputs": [
    {
     "name": "stdout",
     "output_type": "stream",
     "text": [
      "The root mean squared error the our model is: 0.9677175964664096\n",
      "The mean absolute error the our model is: 0.7528439718712303\n",
      "The R2 score for the model is: 0.2599832348998994\n"
     ]
    }
   ],
   "source": [
    "evaluator = RegressionEvaluator(metricName='rmse', labelCol='Rating', predictionCol='prediction')\n",
    "print('The root mean squared error the our model is: {}'.format(evaluator.evaluate(dfs_pred)))\n",
    "\n",
    "evaluator_mae = RegressionEvaluator(metricName='mae', labelCol='Rating', predictionCol='prediction')\n",
    "print('The mean absolute error the our model is: {}'.format(evaluator_mae.evaluate(dfs_pred)))\n",
    "\n",
    "evaluator_r2 = RegressionEvaluator(metricName='r2', labelCol='Rating', predictionCol='prediction')\n",
    "print('The R2 score for the model is: {}'.format(evaluator_r2.evaluate(dfs_pred)))"
   ]
  },
  {
   "cell_type": "code",
   "execution_count": 79,
   "metadata": {},
   "outputs": [
    {
     "name": "stdout",
     "output_type": "stream",
     "text": [
      "+------+-------+----------+\n",
      "|UserId|MovieId|prediction|\n",
      "+------+-------+----------+\n",
      "|     1|      7|   4.37756|\n",
      "|     1|     20| 3.8920481|\n",
      "|     1|     46|  3.647952|\n",
      "|     1|    117| 3.2435613|\n",
      "|     1|    255| 2.2684302|\n",
      "|     1|    284|   3.06191|\n",
      "|     1|    285| 4.5317836|\n",
      "|     1|    318| 3.8725307|\n",
      "|     1|    325| 2.5372407|\n",
      "|     1|    328| 2.6743321|\n",
      "|     1|    329|  3.216887|\n",
      "|     1|    334| 2.1421502|\n",
      "|     1|    335| 2.2832787|\n",
      "|     1|    353| 3.5235739|\n",
      "|     1|    370|  2.515941|\n",
      "|     1|    371| 2.8664246|\n",
      "|     1|    372| 4.4668136|\n",
      "|     1|    381|  3.530128|\n",
      "|     1|    391| 2.0390136|\n",
      "|     1|    398| 0.9647004|\n",
      "+------+-------+----------+\n",
      "only showing top 20 rows\n",
      "\n"
     ]
    }
   ],
   "source": [
    "# Get the cross join of all user-item pairs and score them.\n",
    "users = dfs_train.select(COL_USER).distinct()\n",
    "items = dfs_train.select(COL_ITEM).distinct()\n",
    "user_item = users.crossJoin(items)\n",
    "dfs_pred = model.transform(user_item)\n",
    "\n",
    "# Remove seen items to ensure that recommended items are different from those already rated by users\n",
    "dfs_pred_exclude_train = dfs_pred.alias(\"pred\").join(\n",
    "    dfs_train.alias(\"train\"),\n",
    "    (dfs_pred[COL_USER] == dfs_train[COL_USER]) & (dfs_pred[COL_ITEM] == dfs_train[COL_ITEM]),\n",
    "    how='outer'\n",
    ")\n",
    "\n",
    "dfs_pred_final = dfs_pred_exclude_train.filter(dfs_pred_exclude_train[\"train.Rating\"].isNull()) \\\n",
    "    .select('pred.' + COL_USER, 'pred.' + COL_ITEM, 'pred.' + \"prediction\")\n",
    "\n",
    "dfs_pred_final.show()"
   ]
  },
  {
   "attachments": {},
   "cell_type": "markdown",
   "metadata": {},
   "source": [
    "MODEL FINE-TUNING\n",
    "\n",
    "- Parameter tuning not only helps in improving model performance, but also helps understand how various parameters affect the model. In this study, *rank* and *regParam* are tuned. \n",
    "- The default value of *rank* is 10.\n",
    "- The default value of *regParam* is 1.0\n",
    "- A list of values ```[10, 15, 20]``` for *rank* and a list of ```[0.001, 0.1, 1.0]``` for *regParam* is passed."
   ]
  },
  {
   "cell_type": "code",
   "execution_count": 26,
   "metadata": {},
   "outputs": [],
   "source": [
    "param_dict = {\n",
    "    \"rank\": [10, 15, 20],\n",
    "    \"regParam\": [0.001, 0.1, 1.0]\n",
    "}"
   ]
  },
  {
   "cell_type": "code",
   "execution_count": 58,
   "metadata": {},
   "outputs": [
    {
     "data": {
      "text/plain": [
       "[{'rank': 10, 'regParam': 0.001},\n",
       " {'rank': 10, 'regParam': 0.1},\n",
       " {'rank': 10, 'regParam': 1.0},\n",
       " {'rank': 15, 'regParam': 0.001},\n",
       " {'rank': 15, 'regParam': 0.1},\n",
       " {'rank': 15, 'regParam': 1.0},\n",
       " {'rank': 20, 'regParam': 0.001},\n",
       " {'rank': 20, 'regParam': 0.1},\n",
       " {'rank': 20, 'regParam': 1.0}]"
      ]
     },
     "execution_count": 58,
     "metadata": {},
     "output_type": "execute_result"
    }
   ],
   "source": [
    "param_grid = generate_param_grid(param_dict) # dictionary of all parameter combination\n",
    "param_grid"
   ]
  },
  {
   "cell_type": "code",
   "execution_count": 35,
   "metadata": {},
   "outputs": [],
   "source": [
    "rmse_score = [] # record rmse scores for each param combination\n",
    "\n",
    "for g in param_grid:\n",
    "    als = ALS(        \n",
    "        userCol=COL_USER, \n",
    "        itemCol=COL_ITEM, \n",
    "        ratingCol=COL_RATING, \n",
    "        coldStartStrategy=\"drop\",\n",
    "        **g\n",
    "    )\n",
    "    \n",
    "    model = als.fit(dfs_train)\n",
    "    \n",
    "    dfs_pred = model.transform(dfs_test)\n",
    "    \n",
    "    rmse_score.append(evaluator.evaluate(dfs_pred))\n",
    "\n",
    "rmse_score = [float('%.4f' % x) for x in rmse_score]\n",
    "rmse_score_array = np.reshape(rmse_score, (len(param_dict[\"rank\"]), len(param_dict[\"regParam\"]))) "
   ]
  },
  {
   "cell_type": "code",
   "execution_count": 36,
   "metadata": {},
   "outputs": [],
   "source": [
    "rmse_df = pd.DataFrame(data=rmse_score_array, index=pd.Index(param_dict[\"rank\"], name=\"rank\"), \n",
    "                       columns=pd.Index(param_dict[\"regParam\"], name=\"reg. parameter\"))"
   ]
  },
  {
   "cell_type": "code",
   "execution_count": 37,
   "metadata": {},
   "outputs": [
    {
     "data": {
      "text/plain": [
       "<AxesSubplot:xlabel='reg. parameter', ylabel='rank'>"
      ]
     },
     "execution_count": 37,
     "metadata": {},
     "output_type": "execute_result"
    },
    {
     "data": {
      "image/png": "[encoded data removed]",
      "text/plain": [
       "<Figure size 432x288 with 1 Axes>"
      ]
     },
     "metadata": {
      "needs_background": "light"
     },
     "output_type": "display_data"
    }
   ],
   "source": [
    "fig, ax = plt.subplots()\n",
    "sns.heatmap(rmse_df, cbar=False, annot=True, fmt=\".4g\")"
   ]
  },
  {
   "attachments": {},
   "cell_type": "markdown",
   "metadata": {},
   "source": [
    "The calculated RMSE scores is visualized to comparatively study how model performance is affected by different parameters."
   ]
  },
  {
   "attachments": {},
   "cell_type": "markdown",
   "metadata": {},
   "source": [
    "TOP k RECOMMENDATIONS FOR ALL USERS"
   ]
  },
  {
   "cell_type": "code",
   "execution_count": null,
   "metadata": {},
   "outputs": [],
   "source": [
    "k = 10"
   ]
  },
  {
   "cell_type": "code",
   "execution_count": 38,
   "metadata": {},
   "outputs": [],
   "source": [
    "dfs_rec = model.recommendForAllUsers(k)"
   ]
  },
  {
   "cell_type": "code",
   "execution_count": 39,
   "metadata": {},
   "outputs": [
    {
     "name": "stdout",
     "output_type": "stream",
     "text": [
      "+------+--------------------+\n",
      "|UserId|     recommendations|\n",
      "+------+--------------------+\n",
      "|     1|[{1536, 3.8911986...|\n",
      "|     3|[{1536, 3.1063838...|\n",
      "|     6|[{1536, 3.7354305...|\n",
      "|    12|[{1536, 4.4471893...|\n",
      "|    13|[{1536, 3.3997416...|\n",
      "|    16|[{1536, 4.5658073...|\n",
      "|    20|[{1536, 3.3140032...|\n",
      "|    22|[{1536, 3.7392457...|\n",
      "|    26|[{1536, 3.172992}...|\n",
      "|    27|[{1536, 3.4825764...|\n",
      "+------+--------------------+\n",
      "only showing top 10 rows\n",
      "\n"
     ]
    }
   ],
   "source": [
    "dfs_rec.show(10)"
   ]
  },
  {
   "attachments": {},
   "cell_type": "markdown",
   "metadata": {},
   "source": [
    "TOP k RECOMMENDATIONS FOR RANDOM 3 USERS"
   ]
  },
  {
   "cell_type": "code",
   "execution_count": 40,
   "metadata": {},
   "outputs": [],
   "source": [
    "users = dfs_train.select(als.getUserCol()).distinct().limit(3)\n",
    "\n",
    "dfs_rec_subset = model.recommendForUserSubset(users, k)"
   ]
  },
  {
   "cell_type": "code",
   "execution_count": 50,
   "metadata": {},
   "outputs": [
    {
     "name": "stdout",
     "output_type": "stream",
     "text": [
      "+------+\n",
      "|UserId|\n",
      "+------+\n",
      "|   148|\n",
      "|   463|\n",
      "|   471|\n",
      "+------+\n",
      "\n"
     ]
    }
   ],
   "source": [
    "users.show()"
   ]
  },
  {
   "cell_type": "code",
   "execution_count": 55,
   "metadata": {},
   "outputs": [
    {
     "name": "stdout",
     "output_type": "stream",
     "text": [
      "+------+-------------------------------------------------------------------------------------------------------------------------------------------------------------------------------------------+\n",
      "|UserId|recommendations                                                                                                                                                                            |\n",
      "+------+-------------------------------------------------------------------------------------------------------------------------------------------------------------------------------------------+\n",
      "|471   |[{1536, 3.3287528}, {814, 3.325921}, {1306, 3.2876728}, {1642, 3.2444062}, {1467, 3.1962745}, {1599, 3.1828597}, {1500, 3.1590354}, {119, 3.1527188}, {1358, 3.1227164}, {1656, 3.0970337}]|\n",
      "|463   |[{1536, 3.1125836}, {814, 3.109936}, {1306, 3.0741713}, {1642, 3.0337155}, {1467, 2.9887087}, {1599, 2.976165}, {1500, 2.953888}, {119, 2.9479823}, {1358, 2.919927}, {1656, 2.8959131}]   |\n",
      "|148   |[{1536, 3.9075737}, {814, 3.9042492}, {1306, 3.8593504}, {1642, 3.8085604}, {1467, 3.7520592}, {1599, 3.7363124}, {1500, 3.7083452}, {119, 3.70093}, {1358, 3.66571}, {1656, 3.6355624}]   |\n",
      "+------+-------------------------------------------------------------------------------------------------------------------------------------------------------------------------------------------+\n",
      "\n"
     ]
    }
   ],
   "source": [
    "dfs_rec_subset.show(truncate=False)"
   ]
  },
  {
   "cell_type": "code",
   "execution_count": 56,
   "metadata": {},
   "outputs": [],
   "source": [
    "# cleanup spark instance\n",
    "spark.stop()"
   ]
  }
 ],
 "metadata": {
  "celltoolbar": "Tags",
  "interpreter": {
   "hash": "7ec2189bea0434770dca7423a25e631e1cca9c4e2b4ff137a82f4dff32ac9607"
  },
  "kernelspec": {
   "display_name": "Python 3 (ipykernel)",
   "language": "python",
   "name": "python3"
  },
  "language_info": {
   "codemirror_mode": {
    "name": "ipython",
    "version": 3
   },
   "file_extension": ".py",
   "mimetype": "text/x-python",
   "name": "python",
   "nbconvert_exporter": "python",
   "pygments_lexer": "ipython3",
   "version": "3.9.12"
  }
 },
 "nbformat": 4,
 "nbformat_minor": 2
}
